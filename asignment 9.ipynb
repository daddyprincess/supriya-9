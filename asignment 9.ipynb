{
 "cells": [
  {
   "cell_type": "markdown",
   "id": "3a4df407-0d57-40c6-8d69-bf9ed699643e",
   "metadata": {},
   "source": [
    "## 1.Multithreading"
   ]
  },
  {
   "cell_type": "code",
   "execution_count": null,
   "id": "120f0938-4b7a-479b-8a76-f6805f95ffa0",
   "metadata": {},
   "outputs": [],
   "source": [
    "Multithreading in python is a popular technique that enables multiple tasks to be executed simultaneously,In simple words\n",
    " the ability of a processor to execute multiple threads simultaneously is known as multithreading."
   ]
  },
  {
   "cell_type": "markdown",
   "id": "849dd53c-f2f8-4084-bc4f-e73b3c6e34d2",
   "metadata": {},
   "source": [
    "### uses"
   ]
  },
  {
   "cell_type": "code",
   "execution_count": null,
   "id": "77f1375f-78bd-4ba1-a946-20a3e0730f63",
   "metadata": {},
   "outputs": [],
   "source": [
    "Python multithreading enables efficient utilization of the resources as the threads share the data space and memory.\n",
    "Multithreading in Python allows the concurrent and parallel occurrence of various tasks. It causes a reduction in time\n",
    "consumption or response time, thereby increasing the performance.\n"
   ]
  },
  {
   "cell_type": "markdown",
   "id": "133bc604-ed2f-4f9d-8cc6-61615111ac9b",
   "metadata": {},
   "source": [
    "### module"
   ]
  },
  {
   "cell_type": "markdown",
   "id": "0c2b69d7-e45b-4362-9162-085c952a4c86",
   "metadata": {},
   "source": [
    "Threading Modules. The threading module is a high-level implementation of multithreading used to deploy an application in\n",
    "Python. To use multithreading, we need to import the threading module in Python Program. A start() method is used to \n",
    "initiate the activity of a thread.\n"
   ]
  },
  {
   "cell_type": "markdown",
   "id": "50bd4708-70a3-4c60-a8b9-6d746bb588aa",
   "metadata": {},
   "source": [
    "## 2.functions"
   ]
  },
  {
   "cell_type": "code",
   "execution_count": null,
   "id": "f77baf1a-b75d-4a03-b8a4-f3a770d5955b",
   "metadata": {},
   "outputs": [],
   "source": [
    "Python threading allows you to have different parts of your program run concurrently and can simplify your design. If\n",
    "you have got some experience in Python and want to speed up your program using threads, then this tutorial is for you!\n"
   ]
  },
  {
   "cell_type": "markdown",
   "id": "c1768044-efc9-461b-9201-3f96fc2a1fb0",
   "metadata": {},
   "source": [
    "### active count()"
   ]
  },
  {
   "cell_type": "code",
   "execution_count": null,
   "id": "9e8bbfc1-dea4-4e83-b3ad-7109cd6cddc1",
   "metadata": {},
   "outputs": [],
   "source": [
    "threading.activeCount() − Returns the number of thread objects that are active."
   ]
  },
  {
   "cell_type": "markdown",
   "id": "2fac5a2f-870e-443f-89b0-f9e66355d45b",
   "metadata": {},
   "source": [
    "### current thread()"
   ]
  },
  {
   "cell_type": "code",
   "execution_count": null,
   "id": "702abb69-239d-4976-a2b1-bebb661eb64e",
   "metadata": {},
   "outputs": [],
   "source": [
    "threading.currentThread() − Returns the number of thread objects in the callers thread control."
   ]
  },
  {
   "cell_type": "markdown",
   "id": "db36bb1b-7509-4022-a9bf-8e86e238a8f0",
   "metadata": {},
   "source": [
    "### enumerate()"
   ]
  },
  {
   "cell_type": "code",
   "execution_count": null,
   "id": "99ae87c1-ec48-4b48-94a8-3f56a5dcceda",
   "metadata": {},
   "outputs": [],
   "source": [
    "threading.enumerate() − Returns a list of all thread objects that are currently active."
   ]
  },
  {
   "cell_type": "markdown",
   "id": "63e4b56f-f76b-49a3-b384-7e302fb2992e",
   "metadata": {},
   "source": [
    "## 3.function"
   ]
  },
  {
   "cell_type": "markdown",
   "id": "ecc5af3f-b7a9-4b0a-acdd-d604b9725e1e",
   "metadata": {},
   "source": [
    "### run()"
   ]
  },
  {
   "cell_type": "code",
   "execution_count": null,
   "id": "914e07da-4f06-414d-baeb-dd9184b03a68",
   "metadata": {},
   "outputs": [],
   "source": [
    "run() − The run() method is the entry point for a thread."
   ]
  },
  {
   "cell_type": "markdown",
   "id": "5852acfd-0953-4fcd-89df-99826593aede",
   "metadata": {},
   "source": [
    "### start()"
   ]
  },
  {
   "cell_type": "code",
   "execution_count": null,
   "id": "8f994aee-21c9-4b02-9215-7f171c8c08e8",
   "metadata": {},
   "outputs": [],
   "source": [
    "start() − The start() method starts a thread by calling the run method."
   ]
  },
  {
   "cell_type": "markdown",
   "id": "59c056a0-c14a-4ac0-a9ec-f128661f9c13",
   "metadata": {},
   "source": [
    "### join()"
   ]
  },
  {
   "cell_type": "code",
   "execution_count": null,
   "id": "5754c1fe-ee8a-4f9c-9daf-7f38dd0ac775",
   "metadata": {},
   "outputs": [],
   "source": [
    "join() − The join() waits for threads to terminate."
   ]
  },
  {
   "cell_type": "markdown",
   "id": "b1b5c2bc-291b-4537-8a64-f82a71aec476",
   "metadata": {},
   "source": [
    "### is Alive()"
   ]
  },
  {
   "cell_type": "code",
   "execution_count": null,
   "id": "c2e8fe53-6359-449e-9db9-faa347583907",
   "metadata": {},
   "outputs": [],
   "source": [
    "isAlive() − The isAlive() method checks whether a thread is still executing."
   ]
  },
  {
   "cell_type": "markdown",
   "id": "28cb203d-bbcb-45da-a208-0ca3d1e6be09",
   "metadata": {},
   "source": [
    "## 4.list of squares and cubes"
   ]
  },
  {
   "cell_type": "code",
   "execution_count": 6,
   "id": "a886439f-c2f1-47e0-a0b8-2ee938720669",
   "metadata": {},
   "outputs": [
    {
     "name": "stdout",
     "output_type": "stream",
     "text": [
      "[1, 8, 27, 64]\n"
     ]
    }
   ],
   "source": [
    "def cube_list_recursive(lst):\n",
    "\tif len(lst) == 0:\n",
    "\t\treturn []\n",
    "\telse:\n",
    "\t\treturn [lst[0]**3] + cube_list_recursive(lst[1:])\n",
    "\n",
    "# Initializing list\n",
    "l = [1, 2, 3, 4]\n",
    "\n",
    "# Cube List using loop\n",
    "res = cube_list_recursive(l)\n",
    "\n",
    "# printing result\n",
    "print(res)"
   ]
  },
  {
   "cell_type": "markdown",
   "id": "b7cec361-67b5-4269-afc4-3192282d8b2f",
   "metadata": {},
   "source": [
    "## 5.advantages and disadvantages of multithreading"
   ]
  },
  {
   "cell_type": "markdown",
   "id": "f13fdc37-8fa7-4a54-a64b-ff2cdba639db",
   "metadata": {},
   "source": [
    "### advantages"
   ]
  },
  {
   "cell_type": "code",
   "execution_count": null,
   "id": "d40b776b-8d9f-4982-841d-2e9aff271b3a",
   "metadata": {},
   "outputs": [],
   "source": [
    "-Enhanced performance by decreased development time.\n",
    "-Simplified and streamlined program coding.\n",
    "-Improvised GUI responsiveness.\n",
    "-Simultaneous and parallelized occurrence of tasks.\n",
    "-Better use of cache storage by utilization of resources.\n",
    "-Decreased cost of maintenance"
   ]
  },
  {
   "cell_type": "markdown",
   "id": "f9ce38c2-c899-4fee-934f-8a26d57106eb",
   "metadata": {},
   "source": [
    "### diadvantages"
   ]
  },
  {
   "cell_type": "code",
   "execution_count": null,
   "id": "60551e8e-1557-41fa-b23c-b0f5a2aa1e9d",
   "metadata": {},
   "outputs": [],
   "source": [
    "-Difficulty of writing code. Multithreaded and multicontexted applications are not easy to write. ...\n",
    "-Difficulty of debugging.\n",
    "-Difficulty of managing concurrency.\n",
    "-Difficulty of testing.\n",
    "-Difficulty of porting existing code."
   ]
  },
  {
   "cell_type": "markdown",
   "id": "bafe6be0-e023-42ad-887b-30e4f68d2b31",
   "metadata": {},
   "source": [
    "## 6.deadlocks and race conditions"
   ]
  },
  {
   "cell_type": "markdown",
   "id": "fce646c1-88e7-4403-9818-f871b344ffd8",
   "metadata": {},
   "source": [
    "### deadlocks"
   ]
  },
  {
   "cell_type": "code",
   "execution_count": null,
   "id": "964eb3f5-1516-46b5-a306-67c0db59b31e",
   "metadata": {},
   "outputs": [],
   "source": [
    "A deadlock is a concurrency failure mode where a thread or threads wait for a condition that never occurs.The result is\n",
    "that the deadlock threads are unable to progress and the program is stuck or frozen and must be terminatedforcefully."
   ]
  },
  {
   "cell_type": "markdown",
   "id": "3f3bc882-69d1-4083-bea8-e90f8fef9931",
   "metadata": {},
   "source": [
    "### race"
   ]
  },
  {
   "cell_type": "code",
   "execution_count": null,
   "id": "fd31545d-afc2-4bca-8c3c-2769899c8fed",
   "metadata": {},
   "outputs": [],
   "source": []
  },
  {
   "cell_type": "code",
   "execution_count": null,
   "id": "3c51fc59-c841-4367-8643-76e6cb2b8aa9",
   "metadata": {},
   "outputs": [],
   "source": []
  },
  {
   "cell_type": "code",
   "execution_count": null,
   "id": "911489e8-2a4d-404e-8649-2b65fc8cd440",
   "metadata": {},
   "outputs": [],
   "source": []
  }
 ],
 "metadata": {
  "kernelspec": {
   "display_name": "Python 3 (ipykernel)",
   "language": "python",
   "name": "python3"
  },
  "language_info": {
   "codemirror_mode": {
    "name": "ipython",
    "version": 3
   },
   "file_extension": ".py",
   "mimetype": "text/x-python",
   "name": "python",
   "nbconvert_exporter": "python",
   "pygments_lexer": "ipython3",
   "version": "3.10.8"
  }
 },
 "nbformat": 4,
 "nbformat_minor": 5
}
